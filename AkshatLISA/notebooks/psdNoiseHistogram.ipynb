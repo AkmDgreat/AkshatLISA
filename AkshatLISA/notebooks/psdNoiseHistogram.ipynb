{
 "cells": [
  {
   "cell_type": "code",
   "execution_count": 3,
   "metadata": {},
   "outputs": [],
   "source": [
    "import os as os\n",
    "import sys\n",
    "\n",
    "# adding folders to sys.path\n",
    "project_root = os.path.abspath(os.path.join(os.getcwd()  , '..', '..'))\n",
    "if project_root not in sys.path:\n",
    "    sys.path.insert(0, project_root)\n",
    "\n",
    "akshat_lisa_root = os.path.abspath(os.path.join(os.getcwd()  , '..',))\n",
    "if akshat_lisa_root not in sys.path:\n",
    "    sys.path.insert(0, akshat_lisa_root)\n",
    "\n",
    "from scripts.psdNoiseHistogram import plot_psd_noise_histogram\n",
    "import matplotlib.pyplot as plt"
   ]
  },
  {
   "cell_type": "code",
   "execution_count": 7,
   "metadata": {},
   "outputs": [
    {
     "name": "stdout",
     "output_type": "stream",
     "text": [
      "Sampling PSD at 0.080 Hz (closest to requested 0.080 Hz)\n"
     ]
    },
    {
     "ename": "NameError",
     "evalue": "name 'actual_freq' is not defined",
     "output_type": "error",
     "traceback": [
      "\u001b[0;31m---------------------------------------------------------------------------\u001b[0m",
      "\u001b[0;31mNameError\u001b[0m                                 Traceback (most recent call last)",
      "Cell \u001b[0;32mIn[7], line 24\u001b[0m\n\u001b[1;32m     22\u001b[0m \u001b[38;5;66;03m# overlay the original PSD value\u001b[39;00m\n\u001b[1;32m     23\u001b[0m plt\u001b[38;5;241m.\u001b[39maxvline(psd_orig[idx], color\u001b[38;5;241m=\u001b[39m\u001b[38;5;124m'\u001b[39m\u001b[38;5;124mr\u001b[39m\u001b[38;5;124m'\u001b[39m, lw\u001b[38;5;241m=\u001b[39m\u001b[38;5;241m2\u001b[39m, label\u001b[38;5;241m=\u001b[39m\u001b[38;5;124m\"\u001b[39m\u001b[38;5;124mOriginal PSD\u001b[39m\u001b[38;5;124m\"\u001b[39m)\n\u001b[0;32m---> 24\u001b[0m plt\u001b[38;5;241m.\u001b[39mxlabel(\u001b[38;5;124mf\u001b[39m\u001b[38;5;124m\"\u001b[39m\u001b[38;5;124mPSD @ \u001b[39m\u001b[38;5;132;01m{\u001b[39;00m\u001b[43mactual_freq\u001b[49m\u001b[38;5;132;01m:\u001b[39;00m\u001b[38;5;124m.3f\u001b[39m\u001b[38;5;132;01m}\u001b[39;00m\u001b[38;5;124m Hz [1/Hz]\u001b[39m\u001b[38;5;124m\"\u001b[39m)\n\u001b[1;32m     25\u001b[0m plt\u001b[38;5;241m.\u001b[39mylabel(\u001b[38;5;124m\"\u001b[39m\u001b[38;5;124mCount\u001b[39m\u001b[38;5;124m\"\u001b[39m)\n\u001b[1;32m     26\u001b[0m plt\u001b[38;5;241m.\u001b[39mtitle(\u001b[38;5;124mf\u001b[39m\u001b[38;5;124m\"\u001b[39m\u001b[38;5;124mDistribution of \u001b[39m\u001b[38;5;132;01m{\u001b[39;00mn_trials\u001b[38;5;132;01m}\u001b[39;00m\u001b[38;5;124m Noise‐PSD Realizations\u001b[39m\u001b[38;5;124m\"\u001b[39m)\n",
      "\u001b[0;31mNameError\u001b[0m: name 'actual_freq' is not defined"
     ]
    },
    {
     "data": {
      "image/png": "[encoded data removed]",
      "text/plain": [
       "<Figure size 600x400 with 1 Axes>"
      ]
     },
     "metadata": {},
     "output_type": "display_data"
    }
   ],
   "source": [
    "bethLISA_directory = os.path.join(os.getcwd(), \"..\", \"..\", \"bethLISA\")\n",
    "tdi_path = os.path.join(bethLISA_directory, 'lisa_glitch_simulation',\n",
    "                        'tdi_outputs', 'small_glitch_tdi.h5')\n",
    "\n",
    "# pick the frequency you're interested in, e.g. 10 Hz\n",
    "n_trials = 1000\n",
    "psd_orig, noise_vals, idx = plot_psd_noise_histogram(\n",
    "    tdi_file_path = tdi_path,\n",
    "    channel       = \"X\",\n",
    "    target_freq   = 80e-3,\n",
    "    n_trials      = n_trials,\n",
    "    window        = \"hann\",\n",
    "    nper          = 4096,\n",
    "    noverlap      = None,\n",
    "    average       = \"mean\",\n",
    "    scaling       = \"density\"\n",
    ")\n",
    "\n",
    "# 4) plot histogram\n",
    "plt.figure(figsize=(6,4))\n",
    "plt.hist(noise_vals, bins=100, alpha=0.7, edgecolor='k')\n",
    "# overlay the original PSD value\n",
    "plt.axvline(psd_orig[idx], color='r', lw=2, label=\"Original PSD\")\n",
    "plt.xlabel(f\"PSD @ {actual_freq:.3f} Hz [1/Hz]\")\n",
    "plt.ylabel(\"Count\")\n",
    "plt.title(f\"Distribution of {n_trials} Noise‐PSD Realizations\")\n",
    "plt.legend()\n",
    "plt.tight_layout()\n",
    "plt.show()"
   ]
  },
  {
   "cell_type": "code",
   "execution_count": null,
   "metadata": {},
   "outputs": [],
   "source": []
  }
 ],
 "metadata": {
  "kernelspec": {
   "display_name": "bethenv",
   "language": "python",
   "name": "python3"
  },
  "language_info": {
   "codemirror_mode": {
    "name": "ipython",
    "version": 3
   },
   "file_extension": ".py",
   "mimetype": "text/x-python",
   "name": "python",
   "nbconvert_exporter": "python",
   "pygments_lexer": "ipython3",
   "version": "3.11.11"
  }
 },
 "nbformat": 4,
 "nbformat_minor": 2
}
